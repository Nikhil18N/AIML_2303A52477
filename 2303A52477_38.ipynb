{
  "nbformat": 4,
  "nbformat_minor": 0,
  "metadata": {
    "colab": {
      "provenance": [],
      "authorship_tag": "ABX9TyM1YyULgQE3kvtG6V88B1mf",
      "include_colab_link": true
    },
    "kernelspec": {
      "name": "python3",
      "display_name": "Python 3"
    },
    "language_info": {
      "name": "python"
    }
  },
  "cells": [
    {
      "cell_type": "markdown",
      "metadata": {
        "id": "view-in-github",
        "colab_type": "text"
      },
      "source": [
        "<a href=\"https://colab.research.google.com/github/Nikhil18N/AIML_2303A52477/blob/main/2303A52477_38.ipynb\" target=\"_parent\"><img src=\"https://colab.research.google.com/assets/colab-badge.svg\" alt=\"Open In Colab\"/></a>"
      ]
    },
    {
      "cell_type": "markdown",
      "source": [
        "**Question 28.**"
      ],
      "metadata": {
        "id": "u5Uu3lvP3hOP"
      }
    },
    {
      "cell_type": "code",
      "source": [
        "import pandas as pd\n",
        "from collections import Counter\n",
        "\n",
        "data = pd.read_csv('/content/chord-fingers.csv', sep=';')\n",
        "data.head()"
      ],
      "metadata": {
        "colab": {
          "base_uri": "https://localhost:8080/",
          "height": 206
        },
        "id": "ZgDtyl4oz_7s",
        "outputId": "7ef3d5f9-99bf-4d8f-9e80-5074b50768c8"
      },
      "execution_count": null,
      "outputs": [
        {
          "output_type": "execute_result",
          "data": {
            "text/plain": [
              "  CHORD_ROOT CHORD_TYPE   CHORD_STRUCTURE FINGER_POSITIONS        NOTE_NAMES\n",
              "0         A#         13  1;3;5;b7;9;11;13      x,1,0,2,3,4  A#,C##,G#,B#,F##\n",
              "1         A#         13  1;3;5;b7;9;11;13      4,x,3,2,1,1  A#,G#,B#,C##,F##\n",
              "2         A#         13  1;3;5;b7;9;11;13      1,x,1,2,3,4  A#,G#,C##,F##,B#\n",
              "3         A#      7(#9)       1;3;5;b7;#9      x,1,0,2,4,3  A#,C##,G#,B##,E#\n",
              "4         A#      7(#9)       1;3;5;b7;#9      2,1,3,3,3,x  A#,C##,G#,B##,E#"
            ],
            "text/html": [
              "\n",
              "  <div id=\"df-f00cfd0e-9732-4336-a60a-95fdb8bd3472\" class=\"colab-df-container\">\n",
              "    <div>\n",
              "<style scoped>\n",
              "    .dataframe tbody tr th:only-of-type {\n",
              "        vertical-align: middle;\n",
              "    }\n",
              "\n",
              "    .dataframe tbody tr th {\n",
              "        vertical-align: top;\n",
              "    }\n",
              "\n",
              "    .dataframe thead th {\n",
              "        text-align: right;\n",
              "    }\n",
              "</style>\n",
              "<table border=\"1\" class=\"dataframe\">\n",
              "  <thead>\n",
              "    <tr style=\"text-align: right;\">\n",
              "      <th></th>\n",
              "      <th>CHORD_ROOT</th>\n",
              "      <th>CHORD_TYPE</th>\n",
              "      <th>CHORD_STRUCTURE</th>\n",
              "      <th>FINGER_POSITIONS</th>\n",
              "      <th>NOTE_NAMES</th>\n",
              "    </tr>\n",
              "  </thead>\n",
              "  <tbody>\n",
              "    <tr>\n",
              "      <th>0</th>\n",
              "      <td>A#</td>\n",
              "      <td>13</td>\n",
              "      <td>1;3;5;b7;9;11;13</td>\n",
              "      <td>x,1,0,2,3,4</td>\n",
              "      <td>A#,C##,G#,B#,F##</td>\n",
              "    </tr>\n",
              "    <tr>\n",
              "      <th>1</th>\n",
              "      <td>A#</td>\n",
              "      <td>13</td>\n",
              "      <td>1;3;5;b7;9;11;13</td>\n",
              "      <td>4,x,3,2,1,1</td>\n",
              "      <td>A#,G#,B#,C##,F##</td>\n",
              "    </tr>\n",
              "    <tr>\n",
              "      <th>2</th>\n",
              "      <td>A#</td>\n",
              "      <td>13</td>\n",
              "      <td>1;3;5;b7;9;11;13</td>\n",
              "      <td>1,x,1,2,3,4</td>\n",
              "      <td>A#,G#,C##,F##,B#</td>\n",
              "    </tr>\n",
              "    <tr>\n",
              "      <th>3</th>\n",
              "      <td>A#</td>\n",
              "      <td>7(#9)</td>\n",
              "      <td>1;3;5;b7;#9</td>\n",
              "      <td>x,1,0,2,4,3</td>\n",
              "      <td>A#,C##,G#,B##,E#</td>\n",
              "    </tr>\n",
              "    <tr>\n",
              "      <th>4</th>\n",
              "      <td>A#</td>\n",
              "      <td>7(#9)</td>\n",
              "      <td>1;3;5;b7;#9</td>\n",
              "      <td>2,1,3,3,3,x</td>\n",
              "      <td>A#,C##,G#,B##,E#</td>\n",
              "    </tr>\n",
              "  </tbody>\n",
              "</table>\n",
              "</div>\n",
              "    <div class=\"colab-df-buttons\">\n",
              "\n",
              "  <div class=\"colab-df-container\">\n",
              "    <button class=\"colab-df-convert\" onclick=\"convertToInteractive('df-f00cfd0e-9732-4336-a60a-95fdb8bd3472')\"\n",
              "            title=\"Convert this dataframe to an interactive table.\"\n",
              "            style=\"display:none;\">\n",
              "\n",
              "  <svg xmlns=\"http://www.w3.org/2000/svg\" height=\"24px\" viewBox=\"0 -960 960 960\">\n",
              "    <path d=\"M120-120v-720h720v720H120Zm60-500h600v-160H180v160Zm220 220h160v-160H400v160Zm0 220h160v-160H400v160ZM180-400h160v-160H180v160Zm440 0h160v-160H620v160ZM180-180h160v-160H180v160Zm440 0h160v-160H620v160Z\"/>\n",
              "  </svg>\n",
              "    </button>\n",
              "\n",
              "  <style>\n",
              "    .colab-df-container {\n",
              "      display:flex;\n",
              "      gap: 12px;\n",
              "    }\n",
              "\n",
              "    .colab-df-convert {\n",
              "      background-color: #E8F0FE;\n",
              "      border: none;\n",
              "      border-radius: 50%;\n",
              "      cursor: pointer;\n",
              "      display: none;\n",
              "      fill: #1967D2;\n",
              "      height: 32px;\n",
              "      padding: 0 0 0 0;\n",
              "      width: 32px;\n",
              "    }\n",
              "\n",
              "    .colab-df-convert:hover {\n",
              "      background-color: #E2EBFA;\n",
              "      box-shadow: 0px 1px 2px rgba(60, 64, 67, 0.3), 0px 1px 3px 1px rgba(60, 64, 67, 0.15);\n",
              "      fill: #174EA6;\n",
              "    }\n",
              "\n",
              "    .colab-df-buttons div {\n",
              "      margin-bottom: 4px;\n",
              "    }\n",
              "\n",
              "    [theme=dark] .colab-df-convert {\n",
              "      background-color: #3B4455;\n",
              "      fill: #D2E3FC;\n",
              "    }\n",
              "\n",
              "    [theme=dark] .colab-df-convert:hover {\n",
              "      background-color: #434B5C;\n",
              "      box-shadow: 0px 1px 3px 1px rgba(0, 0, 0, 0.15);\n",
              "      filter: drop-shadow(0px 1px 2px rgba(0, 0, 0, 0.3));\n",
              "      fill: #FFFFFF;\n",
              "    }\n",
              "  </style>\n",
              "\n",
              "    <script>\n",
              "      const buttonEl =\n",
              "        document.querySelector('#df-f00cfd0e-9732-4336-a60a-95fdb8bd3472 button.colab-df-convert');\n",
              "      buttonEl.style.display =\n",
              "        google.colab.kernel.accessAllowed ? 'block' : 'none';\n",
              "\n",
              "      async function convertToInteractive(key) {\n",
              "        const element = document.querySelector('#df-f00cfd0e-9732-4336-a60a-95fdb8bd3472');\n",
              "        const dataTable =\n",
              "          await google.colab.kernel.invokeFunction('convertToInteractive',\n",
              "                                                    [key], {});\n",
              "        if (!dataTable) return;\n",
              "\n",
              "        const docLinkHtml = 'Like what you see? Visit the ' +\n",
              "          '<a target=\"_blank\" href=https://colab.research.google.com/notebooks/data_table.ipynb>data table notebook</a>'\n",
              "          + ' to learn more about interactive tables.';\n",
              "        element.innerHTML = '';\n",
              "        dataTable['output_type'] = 'display_data';\n",
              "        await google.colab.output.renderOutput(dataTable, element);\n",
              "        const docLink = document.createElement('div');\n",
              "        docLink.innerHTML = docLinkHtml;\n",
              "        element.appendChild(docLink);\n",
              "      }\n",
              "    </script>\n",
              "  </div>\n",
              "\n",
              "\n",
              "<div id=\"df-def792ac-78cb-4ac1-b84f-aa9bf2f42a4e\">\n",
              "  <button class=\"colab-df-quickchart\" onclick=\"quickchart('df-def792ac-78cb-4ac1-b84f-aa9bf2f42a4e')\"\n",
              "            title=\"Suggest charts\"\n",
              "            style=\"display:none;\">\n",
              "\n",
              "<svg xmlns=\"http://www.w3.org/2000/svg\" height=\"24px\"viewBox=\"0 0 24 24\"\n",
              "     width=\"24px\">\n",
              "    <g>\n",
              "        <path d=\"M19 3H5c-1.1 0-2 .9-2 2v14c0 1.1.9 2 2 2h14c1.1 0 2-.9 2-2V5c0-1.1-.9-2-2-2zM9 17H7v-7h2v7zm4 0h-2V7h2v10zm4 0h-2v-4h2v4z\"/>\n",
              "    </g>\n",
              "</svg>\n",
              "  </button>\n",
              "\n",
              "<style>\n",
              "  .colab-df-quickchart {\n",
              "      --bg-color: #E8F0FE;\n",
              "      --fill-color: #1967D2;\n",
              "      --hover-bg-color: #E2EBFA;\n",
              "      --hover-fill-color: #174EA6;\n",
              "      --disabled-fill-color: #AAA;\n",
              "      --disabled-bg-color: #DDD;\n",
              "  }\n",
              "\n",
              "  [theme=dark] .colab-df-quickchart {\n",
              "      --bg-color: #3B4455;\n",
              "      --fill-color: #D2E3FC;\n",
              "      --hover-bg-color: #434B5C;\n",
              "      --hover-fill-color: #FFFFFF;\n",
              "      --disabled-bg-color: #3B4455;\n",
              "      --disabled-fill-color: #666;\n",
              "  }\n",
              "\n",
              "  .colab-df-quickchart {\n",
              "    background-color: var(--bg-color);\n",
              "    border: none;\n",
              "    border-radius: 50%;\n",
              "    cursor: pointer;\n",
              "    display: none;\n",
              "    fill: var(--fill-color);\n",
              "    height: 32px;\n",
              "    padding: 0;\n",
              "    width: 32px;\n",
              "  }\n",
              "\n",
              "  .colab-df-quickchart:hover {\n",
              "    background-color: var(--hover-bg-color);\n",
              "    box-shadow: 0 1px 2px rgba(60, 64, 67, 0.3), 0 1px 3px 1px rgba(60, 64, 67, 0.15);\n",
              "    fill: var(--button-hover-fill-color);\n",
              "  }\n",
              "\n",
              "  .colab-df-quickchart-complete:disabled,\n",
              "  .colab-df-quickchart-complete:disabled:hover {\n",
              "    background-color: var(--disabled-bg-color);\n",
              "    fill: var(--disabled-fill-color);\n",
              "    box-shadow: none;\n",
              "  }\n",
              "\n",
              "  .colab-df-spinner {\n",
              "    border: 2px solid var(--fill-color);\n",
              "    border-color: transparent;\n",
              "    border-bottom-color: var(--fill-color);\n",
              "    animation:\n",
              "      spin 1s steps(1) infinite;\n",
              "  }\n",
              "\n",
              "  @keyframes spin {\n",
              "    0% {\n",
              "      border-color: transparent;\n",
              "      border-bottom-color: var(--fill-color);\n",
              "      border-left-color: var(--fill-color);\n",
              "    }\n",
              "    20% {\n",
              "      border-color: transparent;\n",
              "      border-left-color: var(--fill-color);\n",
              "      border-top-color: var(--fill-color);\n",
              "    }\n",
              "    30% {\n",
              "      border-color: transparent;\n",
              "      border-left-color: var(--fill-color);\n",
              "      border-top-color: var(--fill-color);\n",
              "      border-right-color: var(--fill-color);\n",
              "    }\n",
              "    40% {\n",
              "      border-color: transparent;\n",
              "      border-right-color: var(--fill-color);\n",
              "      border-top-color: var(--fill-color);\n",
              "    }\n",
              "    60% {\n",
              "      border-color: transparent;\n",
              "      border-right-color: var(--fill-color);\n",
              "    }\n",
              "    80% {\n",
              "      border-color: transparent;\n",
              "      border-right-color: var(--fill-color);\n",
              "      border-bottom-color: var(--fill-color);\n",
              "    }\n",
              "    90% {\n",
              "      border-color: transparent;\n",
              "      border-bottom-color: var(--fill-color);\n",
              "    }\n",
              "  }\n",
              "</style>\n",
              "\n",
              "  <script>\n",
              "    async function quickchart(key) {\n",
              "      const quickchartButtonEl =\n",
              "        document.querySelector('#' + key + ' button');\n",
              "      quickchartButtonEl.disabled = true;  // To prevent multiple clicks.\n",
              "      quickchartButtonEl.classList.add('colab-df-spinner');\n",
              "      try {\n",
              "        const charts = await google.colab.kernel.invokeFunction(\n",
              "            'suggestCharts', [key], {});\n",
              "      } catch (error) {\n",
              "        console.error('Error during call to suggestCharts:', error);\n",
              "      }\n",
              "      quickchartButtonEl.classList.remove('colab-df-spinner');\n",
              "      quickchartButtonEl.classList.add('colab-df-quickchart-complete');\n",
              "    }\n",
              "    (() => {\n",
              "      let quickchartButtonEl =\n",
              "        document.querySelector('#df-def792ac-78cb-4ac1-b84f-aa9bf2f42a4e button');\n",
              "      quickchartButtonEl.style.display =\n",
              "        google.colab.kernel.accessAllowed ? 'block' : 'none';\n",
              "    })();\n",
              "  </script>\n",
              "</div>\n",
              "\n",
              "    </div>\n",
              "  </div>\n"
            ],
            "application/vnd.google.colaboratory.intrinsic+json": {
              "type": "dataframe",
              "variable_name": "data",
              "summary": "{\n  \"name\": \"data\",\n  \"rows\": 2632,\n  \"fields\": [\n    {\n      \"column\": \"CHORD_ROOT\",\n      \"properties\": {\n        \"dtype\": \"category\",\n        \"num_unique_values\": 18,\n        \"samples\": [\n          \"A#\",\n          \"C#\",\n          \"Db\"\n        ],\n        \"semantic_type\": \"\",\n        \"description\": \"\"\n      }\n    },\n    {\n      \"column\": \"CHORD_TYPE\",\n      \"properties\": {\n        \"dtype\": \"category\",\n        \"num_unique_values\": 42,\n        \"samples\": [\n          \"m7b5\",\n          \"dim\",\n          \"11\"\n        ],\n        \"semantic_type\": \"\",\n        \"description\": \"\"\n      }\n    },\n    {\n      \"column\": \"CHORD_STRUCTURE\",\n      \"properties\": {\n        \"dtype\": \"category\",\n        \"num_unique_values\": 42,\n        \"samples\": [\n          \"1;b3;b5;b7\",\n          \"1;b3;b5\",\n          \"1;3;5;b7;9;11\"\n        ],\n        \"semantic_type\": \"\",\n        \"description\": \"\"\n      }\n    },\n    {\n      \"column\": \"FINGER_POSITIONS\",\n      \"properties\": {\n        \"dtype\": \"category\",\n        \"num_unique_values\": 769,\n        \"samples\": [\n          \"0,1,3,4,0,0\",\n          \"x,x,1,2,3,3\",\n          \"0,1,3,0,2,4\"\n        ],\n        \"semantic_type\": \"\",\n        \"description\": \"\"\n      }\n    },\n    {\n      \"column\": \"NOTE_NAMES\",\n      \"properties\": {\n        \"dtype\": \"string\",\n        \"num_unique_values\": 2152,\n        \"samples\": [\n          \"C,Eb,Bb,D\",\n          \"D,B,D,F,A,D\",\n          \"Eb,F,Bb,D\"\n        ],\n        \"semantic_type\": \"\",\n        \"description\": \"\"\n      }\n    }\n  ]\n}"
            }
          },
          "metadata": {},
          "execution_count": 11
        }
      ]
    },
    {
      "cell_type": "markdown",
      "source": [
        "**1. Identify the top 5 chords most played**"
      ],
      "metadata": {
        "id": "bIgc7eAu1zZ3"
      }
    },
    {
      "cell_type": "code",
      "source": [
        "top_chords = data['CHORD_ROOT'].value_counts().head(5)\n",
        "print(\"Top 5 Chords Most Played:\")\n",
        "print(top_chords)"
      ],
      "metadata": {
        "colab": {
          "base_uri": "https://localhost:8080/"
        },
        "id": "AtswelMy1yjH",
        "outputId": "6cc60d00-2649-4930-c91e-6d352e77566b"
      },
      "execution_count": null,
      "outputs": [
        {
          "output_type": "stream",
          "name": "stdout",
          "text": [
            "Top 5 Chords Most Played:\n",
            "CHORD_ROOT\n",
            "A    233\n",
            "C    226\n",
            "G    224\n",
            "D    223\n",
            "E    220\n",
            "Name: count, dtype: int64\n"
          ]
        }
      ]
    },
    {
      "cell_type": "markdown",
      "source": [
        "**2. Predict the finger positions used most in chords**"
      ],
      "metadata": {
        "id": "QhN4xTOI18fX"
      }
    },
    {
      "cell_type": "code",
      "source": [
        "finger_positions = data['FINGER_POSITIONS'].str.split(',', expand=True).stack()\n",
        "most_common_finger_positions = Counter(finger_positions).most_common(5)\n",
        "print(\"\\nMost Common Finger Positions:\")\n",
        "print(most_common_finger_positions)"
      ],
      "metadata": {
        "colab": {
          "base_uri": "https://localhost:8080/"
        },
        "id": "CIXVCu-z2CdF",
        "outputId": "0b1269d2-2ff8-4320-ef6d-5dd56c408c69"
      },
      "execution_count": null,
      "outputs": [
        {
          "output_type": "stream",
          "name": "stdout",
          "text": [
            "\n",
            "Most Common Finger Positions:\n",
            "[('x', 4477), ('1', 4246), ('3', 2513), ('2', 2008), ('4', 1678)]\n"
          ]
        }
      ]
    },
    {
      "cell_type": "markdown",
      "source": [
        "**3. Top 5 string movements for song composition**"
      ],
      "metadata": {
        "id": "1JGsjiNe2GD-"
      }
    },
    {
      "cell_type": "code",
      "source": [
        "string_movements = data['FINGER_POSITIONS'].str.replace(',', '').str.split('').explode()\n",
        "top_string_movements = string_movements.value_counts().head(5)\n",
        "print(\"\\nTop 5 String Movements for Song Composition:\")\n",
        "print(top_string_movements)"
      ],
      "metadata": {
        "colab": {
          "base_uri": "https://localhost:8080/"
        },
        "id": "0SbTaOnu2O0x",
        "outputId": "6f960931-1092-4ccc-b501-97c503e62b69"
      },
      "execution_count": null,
      "outputs": [
        {
          "output_type": "stream",
          "name": "stdout",
          "text": [
            "\n",
            "Top 5 String Movements for Song Composition:\n",
            "FINGER_POSITIONS\n",
            "     5264\n",
            "x    4477\n",
            "1    4246\n",
            "3    2513\n",
            "2    2008\n",
            "Name: count, dtype: int64\n"
          ]
        }
      ]
    },
    {
      "cell_type": "markdown",
      "source": [
        "**4. Name the chord condition most suitable for middle and pinkie**"
      ],
      "metadata": {
        "id": "Ydvd-jYd2Tct"
      }
    },
    {
      "cell_type": "code",
      "source": [
        "suitable_chords = data[data['FINGER_POSITIONS'].str.contains('2') & data['FINGER_POSITIONS'].str.contains('4')]\n",
        "print(\"\\nChord Conditions Suitable for Middle and Pinkie:\")\n",
        "print(suitable_chords[['CHORD_ROOT', 'CHORD_TYPE']])"
      ],
      "metadata": {
        "colab": {
          "base_uri": "https://localhost:8080/"
        },
        "id": "KMTxmwFn2Y9x",
        "outputId": "0138a4f5-e664-4ac2-e517-33c08d4ac8cb"
      },
      "execution_count": null,
      "outputs": [
        {
          "output_type": "stream",
          "name": "stdout",
          "text": [
            "\n",
            "Chord Conditions Suitable for Middle and Pinkie:\n",
            "     CHORD_ROOT CHORD_TYPE\n",
            "0            A#         13\n",
            "1            A#         13\n",
            "2            A#         13\n",
            "3            A#      7(#9)\n",
            "5            A#      7(#9)\n",
            "...         ...        ...\n",
            "2623          G     13(b9)\n",
            "2627          G       sus4\n",
            "2629          G        6/9\n",
            "2630          G        6/9\n",
            "2631          G        6/9\n",
            "\n",
            "[1283 rows x 2 columns]\n"
          ]
        }
      ]
    },
    {
      "cell_type": "markdown",
      "source": [
        "**5. Identify the chord with combination of middle, index and ring fingers**"
      ],
      "metadata": {
        "id": "OqqvjX1n2czX"
      }
    },
    {
      "cell_type": "code",
      "source": [
        "specific_chord = data[data['FINGER_POSITIONS'].str.contains('2') &\n",
        "                      data['FINGER_POSITIONS'].str.contains('1') &\n",
        "                      data['FINGER_POSITIONS'].str.contains('3')]\n",
        "print(\"\\nChords with Combination of Middle, Index, and Ring Fingers:\")\n",
        "print(specific_chord[['CHORD_ROOT', 'CHORD_TYPE']])"
      ],
      "metadata": {
        "colab": {
          "base_uri": "https://localhost:8080/"
        },
        "id": "Qeu7Xqrg2kDa",
        "outputId": "25ae3ba3-d1f6-4d9a-e2a4-c57c88092e01"
      },
      "execution_count": null,
      "outputs": [
        {
          "output_type": "stream",
          "name": "stdout",
          "text": [
            "\n",
            "Chords with Combination of Middle, Index, and Ring Fingers:\n",
            "     CHORD_ROOT CHORD_TYPE\n",
            "0            A#         13\n",
            "1            A#         13\n",
            "2            A#         13\n",
            "3            A#      7(#9)\n",
            "4            A#      7(#9)\n",
            "...         ...        ...\n",
            "2623          G     13(b9)\n",
            "2627          G       sus4\n",
            "2629          G        6/9\n",
            "2630          G        6/9\n",
            "2631          G        6/9\n",
            "\n",
            "[1629 rows x 2 columns]\n"
          ]
        }
      ]
    }
  ]
}